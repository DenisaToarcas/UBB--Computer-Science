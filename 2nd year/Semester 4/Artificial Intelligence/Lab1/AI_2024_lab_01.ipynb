{
  "cells": [
    {
      "cell_type": "markdown",
      "source": [
        "# A.I. Assignment 1\n",
        "\n",
        "Set up and familiarize with some Python packages. A simple application with random numbers.\n",
        "\n",
        "For this assignment you have these tasks:\n",
        "1. Prepare the working environment\n",
        "1. Get familiarized with  Numpy (create and manipulate arrays)\n",
        "1. Get familiarized with  Matplotlib  (display various graphics)\n",
        "1. Get familiarized with  Pytorch tensors (creation and manipulation)\n",
        "1. Get familiarized with  PIL/PILLOW (python image library)\n",
        "1. Two applications: Simulate an unfair probability spinner and performe a Monte Carlo Simulation  \n",
        "\n",
        "## Task 1 - Prepare the working environment\n",
        "\n",
        "In order to present the solved tasks from the laboratories a Jupyter notebook is preferred. For this prepare the working environment as follows:  \n",
        "\n",
        "Install Anaconda distribution and navigator. Create a new  environment aiclasses  and inside this environment install: numpy, matplotlib,  pytorch, pillow.\n",
        "\n",
        "Environments in Python are like sandboxes that have different versions of Python and/or packages installed in them. You can create, export, list, remove, and update environments. Anaconda allows easy management for these.\n",
        "Here are the links for the packages’ documentations if you need further references:  \n",
        "\n",
        "[Pytorch](https://pytorch.org/)\n",
        "[Pillow](https://pillow.readthedocs.io/en/stable/)\n",
        "[Numpy](https://numpy.org/)\n",
        "[Matplotlib](https://matplotlib.org/)\n",
        "\n",
        "After these setups install jupyter notebook and launch it. Create a new notebook related to python 3.\n",
        "\n"
      ],
      "metadata": {
        "id": "opposite-dream"
      },
      "id": "opposite-dream"
    },
    {
      "cell_type": "markdown",
      "source": [
        "## Task 2 -- Get familiarized with Numpy (create and manipulate arrays)"
      ],
      "metadata": {
        "id": "injured-telephone"
      },
      "id": "injured-telephone"
    },
    {
      "cell_type": "code",
      "source": [
        "import numpy as np"
      ],
      "outputs": [],
      "execution_count": null,
      "metadata": {
        "ExecuteTime": {
          "end_time": "2024-03-01T14:35:01.171533Z",
          "start_time": "2024-03-01T14:35:00.808127Z"
        },
        "id": "protecting-status"
      },
      "id": "protecting-status"
    },
    {
      "cell_type": "code",
      "source": [
        "my_array = np.array([1, 2, 3, 4])\n",
        "# works as it would with a standard list\n",
        "len(my_array)"
      ],
      "outputs": [
        {
          "output_type": "execute_result",
          "data": {
            "text/plain": [
              "4"
            ]
          },
          "metadata": {},
          "execution_count": 43
        }
      ],
      "execution_count": null,
      "metadata": {
        "scrolled": true,
        "colab": {
          "base_uri": "https://localhost:8080/"
        },
        "id": "pharmaceutical-disaster",
        "outputId": "1bfb4a08-937e-45a0-b38a-15deb843a266"
      },
      "id": "pharmaceutical-disaster"
    },
    {
      "cell_type": "markdown",
      "source": [
        "The shape array of an array is very useful (we'll see more of it later when we talk about 2D arrays -- matrices -- and higher-dimensional arrays)."
      ],
      "metadata": {
        "id": "precise-safety"
      },
      "id": "precise-safety"
    },
    {
      "cell_type": "code",
      "source": [
        "my_array.shape"
      ],
      "outputs": [
        {
          "output_type": "execute_result",
          "data": {
            "text/plain": [
              "(4,)"
            ]
          },
          "metadata": {},
          "execution_count": 5
        }
      ],
      "execution_count": null,
      "metadata": {
        "colab": {
          "base_uri": "https://localhost:8080/"
        },
        "id": "south-smell",
        "outputId": "17931a65-1a27-4d97-b1c0-7a5cbea68929"
      },
      "id": "south-smell"
    },
    {
      "cell_type": "markdown",
      "source": [
        "Numpy arrays are typed. This means that by default, all the elements will be assumed to be of the same type (e.g., integer, float, String)."
      ],
      "metadata": {
        "id": "tender-football"
      },
      "id": "tender-football"
    },
    {
      "cell_type": "code",
      "source": [
        "my_array.dtype"
      ],
      "outputs": [
        {
          "output_type": "execute_result",
          "data": {
            "text/plain": [
              "dtype('int64')"
            ]
          },
          "metadata": {},
          "execution_count": 6
        }
      ],
      "execution_count": null,
      "metadata": {
        "colab": {
          "base_uri": "https://localhost:8080/"
        },
        "id": "terminal-loading",
        "outputId": "666871ff-b009-45dc-8974-cf44e97fd3f5"
      },
      "id": "terminal-loading"
    },
    {
      "cell_type": "markdown",
      "source": [
        "Numpy arrays have similar functionality as lists! Below, we compute the length, slice the array, and iterate through it (one could identically perform the same with a list)."
      ],
      "metadata": {
        "id": "announced-passenger"
      },
      "id": "announced-passenger"
    },
    {
      "cell_type": "code",
      "source": [
        "print(len(my_array))\n",
        "print(my_array[2:4])\n",
        "for element in my_array:\n",
        "    print(element)"
      ],
      "outputs": [
        {
          "output_type": "stream",
          "name": "stdout",
          "text": [
            "4\n",
            "[3 4]\n",
            "1\n",
            "2\n",
            "3\n",
            "4\n"
          ]
        }
      ],
      "execution_count": null,
      "metadata": {
        "colab": {
          "base_uri": "https://localhost:8080/"
        },
        "id": "brave-buyer",
        "outputId": "f938a10b-8a52-4e0b-e66c-b7396c09d671"
      },
      "id": "brave-buyer"
    },
    {
      "cell_type": "markdown",
      "source": [
        "There are two ways to manipulate numpy arrays:\n",
        "\n",
        "1. by using the numpy module's methods (e.g., `np.mean()`)\n",
        "1. by applying the function `np.mean()` with the numpy array as an argument."
      ],
      "metadata": {
        "id": "breathing-premises"
      },
      "id": "breathing-premises"
    },
    {
      "cell_type": "code",
      "source": [
        "print(my_array.mean())\n",
        "print(np.mean(my_array))"
      ],
      "outputs": [
        {
          "output_type": "stream",
          "name": "stdout",
          "text": [
            "2.5\n",
            "2.5\n"
          ]
        }
      ],
      "execution_count": null,
      "metadata": {
        "colab": {
          "base_uri": "https://localhost:8080/"
        },
        "id": "proud-adobe",
        "outputId": "635c5921-b3d3-4e37-8820-ac44e60408e0"
      },
      "id": "proud-adobe"
    },
    {
      "cell_type": "markdown",
      "source": [
        "There are many other efficient ways to construct numpy arrays. Here are some commonly used numpy array constructors. Read more details in the numpy documentation."
      ],
      "metadata": {
        "id": "deadly-divorce"
      },
      "id": "deadly-divorce"
    },
    {
      "cell_type": "code",
      "source": [
        "np.ones(10) # generates 10 floating point ones"
      ],
      "outputs": [
        {
          "output_type": "execute_result",
          "data": {
            "text/plain": [
              "array([1., 1., 1., 1., 1., 1., 1., 1., 1., 1.])"
            ]
          },
          "metadata": {},
          "execution_count": 9
        }
      ],
      "execution_count": null,
      "metadata": {
        "colab": {
          "base_uri": "https://localhost:8080/"
        },
        "id": "looking-voluntary",
        "outputId": "5747d885-71d5-4b38-8ddd-e8d1c67e20f7"
      },
      "id": "looking-voluntary"
    },
    {
      "cell_type": "markdown",
      "source": [
        "Numpy gains a lot of its efficiency from being typed. That is, all elements in the array have the same type, such as integer or floating point. The default type, as can be seen above, is a float. (Each float uses either 32 or 64 bits of memory, depending on if the code is running a 32-bit or 64-bit machine, respectively)."
      ],
      "metadata": {
        "id": "considerable-adaptation"
      },
      "id": "considerable-adaptation"
    },
    {
      "cell_type": "code",
      "source": [
        "np.dtype(float).itemsize # in bytes (remember, 1 byte = 8 bits)"
      ],
      "outputs": [
        {
          "output_type": "execute_result",
          "data": {
            "text/plain": [
              "8"
            ]
          },
          "metadata": {},
          "execution_count": 10
        }
      ],
      "execution_count": null,
      "metadata": {
        "colab": {
          "base_uri": "https://localhost:8080/"
        },
        "id": "cultural-memphis",
        "outputId": "318754d5-7380-4d3a-f0db-17761a661ce5"
      },
      "id": "cultural-memphis"
    },
    {
      "cell_type": "code",
      "source": [
        "np.ones(10, dtype='int') # generates 10 integer ones"
      ],
      "outputs": [
        {
          "output_type": "execute_result",
          "data": {
            "text/plain": [
              "array([1, 1, 1, 1, 1, 1, 1, 1, 1, 1])"
            ]
          },
          "metadata": {},
          "execution_count": 11
        }
      ],
      "execution_count": null,
      "metadata": {
        "colab": {
          "base_uri": "https://localhost:8080/"
        },
        "id": "monetary-reset",
        "outputId": "fd8bb12e-24eb-4b3a-ef2a-4e73852c8173"
      },
      "id": "monetary-reset"
    },
    {
      "cell_type": "code",
      "source": [
        "np.zeros(10)"
      ],
      "outputs": [
        {
          "output_type": "execute_result",
          "data": {
            "text/plain": [
              "array([0., 0., 0., 0., 0., 0., 0., 0., 0., 0.])"
            ]
          },
          "metadata": {},
          "execution_count": 12
        }
      ],
      "execution_count": null,
      "metadata": {
        "colab": {
          "base_uri": "https://localhost:8080/"
        },
        "id": "illegal-stable",
        "outputId": "a85498c3-9bc6-4f26-c612-28da5a1e8ce5"
      },
      "id": "illegal-stable"
    },
    {
      "cell_type": "markdown",
      "source": [
        "Often, you will want random numbers. Use the random constructor!"
      ],
      "metadata": {
        "id": "addressed-shadow"
      },
      "id": "addressed-shadow"
    },
    {
      "cell_type": "code",
      "source": [
        "np.random.random(10) # uniform from [0,1]"
      ],
      "outputs": [
        {
          "output_type": "execute_result",
          "execution_count": 13,
          "data": {
            "text/plain": "array([0.50929916, 0.99934203, 0.02767909, 0.79934657, 0.38465927,\n       0.56439711, 0.52433838, 0.08889742, 0.18240995, 0.36137475])"
          },
          "metadata": {}
        }
      ],
      "execution_count": null,
      "metadata": {
        "id": "applicable-gross",
        "outputId": "072c8960-068f-4f6d-a565-4b4c2ae9a428"
      },
      "id": "applicable-gross"
    },
    {
      "cell_type": "markdown",
      "source": [
        "You can generate random numbers from a normal distribution with mean 0 and variance 1:"
      ],
      "metadata": {
        "id": "victorian-sitting"
      },
      "id": "victorian-sitting"
    },
    {
      "cell_type": "code",
      "source": [
        "normal_array = np.random.randn(1000)\n",
        "print(\"The sample mean and standard devation are %f and %f, respectively.\" %(np.mean(normal_array), np.std(normal_array)))"
      ],
      "outputs": [
        {
          "output_type": "stream",
          "name": "stdout",
          "text": "The sample mean and standard devation are -0.034809 and 0.999227, respectively.\n"
        }
      ],
      "execution_count": null,
      "metadata": {
        "id": "amended-handy",
        "outputId": "9b88b155-5b16-4ea0-9d47-a73ee49b5a8c"
      },
      "id": "amended-handy"
    },
    {
      "cell_type": "code",
      "source": [
        "len(normal_array)"
      ],
      "outputs": [
        {
          "output_type": "execute_result",
          "execution_count": 15,
          "data": {
            "text/plain": "1000"
          },
          "metadata": {}
        }
      ],
      "execution_count": null,
      "metadata": {
        "id": "miniature-thumb",
        "outputId": "4a7ea6ee-8a91-4b38-8c9a-4a4f60ea39c7"
      },
      "id": "miniature-thumb"
    },
    {
      "cell_type": "markdown",
      "source": [
        "You can sample with and without replacement from an array. Let's first construct a list with evenly-spaced values:"
      ],
      "metadata": {
        "id": "immune-clinic"
      },
      "id": "immune-clinic"
    },
    {
      "cell_type": "code",
      "source": [
        "grid = np.arange(0., 1.01, 0.1)\n",
        "grid"
      ],
      "outputs": [
        {
          "output_type": "execute_result",
          "data": {
            "text/plain": [
              "array([0. , 0.1, 0.2, 0.3, 0.4, 0.5, 0.6, 0.7, 0.8, 0.9, 1. ])"
            ]
          },
          "metadata": {},
          "execution_count": 14
        }
      ],
      "execution_count": null,
      "metadata": {
        "colab": {
          "base_uri": "https://localhost:8080/"
        },
        "id": "soviet-excerpt",
        "outputId": "c6d76ec3-52c6-4e72-cb2c-8aec1a2360b3"
      },
      "id": "soviet-excerpt"
    },
    {
      "cell_type": "markdown",
      "source": [
        "Without replacement"
      ],
      "metadata": {
        "id": "silver-vertical"
      },
      "id": "silver-vertical"
    },
    {
      "cell_type": "code",
      "source": [
        "np.random.choice(grid, 5, replace=False)"
      ],
      "outputs": [
        {
          "output_type": "execute_result",
          "data": {
            "text/plain": [
              "array([0.7, 0.6, 0.9, 0.3, 0. ])"
            ]
          },
          "metadata": {},
          "execution_count": 15
        }
      ],
      "execution_count": null,
      "metadata": {
        "colab": {
          "base_uri": "https://localhost:8080/"
        },
        "id": "tropical-hypothetical",
        "outputId": "d7476bf3-5480-49b5-b2fb-f0f29aaf85d2"
      },
      "id": "tropical-hypothetical"
    },
    {
      "cell_type": "code",
      "source": [
        "np.random.choice(grid, 20, replace=False)"
      ],
      "outputs": [
        {
          "output_type": "error",
          "ename": "ValueError",
          "evalue": "Cannot take a larger sample than population when 'replace=False'",
          "traceback": [
            "\u001b[0;31m---------------------------------------------------------------------------\u001b[0m",
            "\u001b[0;31mValueError\u001b[0m                                Traceback (most recent call last)",
            "\u001b[0;32m<ipython-input-16-9eae7c9e97b5>\u001b[0m in \u001b[0;36m<cell line: 1>\u001b[0;34m()\u001b[0m\n\u001b[0;32m----> 1\u001b[0;31m \u001b[0mnp\u001b[0m\u001b[0;34m.\u001b[0m\u001b[0mrandom\u001b[0m\u001b[0;34m.\u001b[0m\u001b[0mchoice\u001b[0m\u001b[0;34m(\u001b[0m\u001b[0mgrid\u001b[0m\u001b[0;34m,\u001b[0m \u001b[0;36m20\u001b[0m\u001b[0;34m,\u001b[0m \u001b[0mreplace\u001b[0m\u001b[0;34m=\u001b[0m\u001b[0;32mFalse\u001b[0m\u001b[0;34m)\u001b[0m\u001b[0;34m\u001b[0m\u001b[0;34m\u001b[0m\u001b[0m\n\u001b[0m",
            "\u001b[0;32mmtrand.pyx\u001b[0m in \u001b[0;36mnumpy.random.mtrand.RandomState.choice\u001b[0;34m()\u001b[0m\n",
            "\u001b[0;31mValueError\u001b[0m: Cannot take a larger sample than population when 'replace=False'"
          ]
        }
      ],
      "execution_count": null,
      "metadata": {
        "colab": {
          "base_uri": "https://localhost:8080/",
          "height": 176
        },
        "id": "vulnerable-regular",
        "outputId": "5e3f0ef7-cc66-4843-b3a1-075e96c5a035"
      },
      "id": "vulnerable-regular"
    },
    {
      "cell_type": "markdown",
      "source": [
        "With replacement:"
      ],
      "metadata": {
        "id": "devoted-president"
      },
      "id": "devoted-president"
    },
    {
      "cell_type": "code",
      "source": [
        "np.random.choice(grid, 20, replace=True)"
      ],
      "outputs": [
        {
          "output_type": "execute_result",
          "data": {
            "text/plain": [
              "array([0.2, 1. , 1. , 0.1, 0.7, 0.6, 0.2, 0.2, 0. , 0.2, 0.5, 0.9, 0.9,\n",
              "       0.9, 0.2, 0.3, 1. , 0.5, 0.1, 0.1])"
            ]
          },
          "metadata": {},
          "execution_count": 17
        }
      ],
      "execution_count": null,
      "metadata": {
        "colab": {
          "base_uri": "https://localhost:8080/"
        },
        "id": "convertible-rider",
        "outputId": "0d7ec564-3650-4c78-ff72-dd752d0677f3"
      },
      "id": "convertible-rider"
    },
    {
      "cell_type": "markdown",
      "source": [
        "Let's create 1,000 points between -10 and 10"
      ],
      "metadata": {
        "id": "equipped-embassy"
      },
      "id": "equipped-embassy"
    },
    {
      "cell_type": "code",
      "source": [
        "x = np.linspace(-10, 10, 1000) # linspace() returns evenly-spaced numbers over a specified interval\n",
        "x[-5:], x[:5]"
      ],
      "outputs": [
        {
          "output_type": "execute_result",
          "data": {
            "text/plain": [
              "(array([ 9.91991992,  9.93993994,  9.95995996,  9.97997998, 10.        ]),\n",
              " array([-10.        ,  -9.97997998,  -9.95995996,  -9.93993994,\n",
              "         -9.91991992]))"
            ]
          },
          "metadata": {},
          "execution_count": 18
        }
      ],
      "execution_count": null,
      "metadata": {
        "colab": {
          "base_uri": "https://localhost:8080/"
        },
        "id": "descending-motivation",
        "outputId": "ae266315-ceb3-43fb-ac8b-a35e25ae0384"
      },
      "id": "descending-motivation"
    },
    {
      "cell_type": "markdown",
      "source": [
        "## Task 3 -- Get familiarized with  Matplotlib  (display various graphics)"
      ],
      "metadata": {
        "id": "intensive-ceremony"
      },
      "id": "intensive-ceremony"
    },
    {
      "cell_type": "markdown",
      "source": [
        "The plot() function is used to draw points (markers) in a diagram. By default, the plot() function draws a line from point to point. The function takes parameters for specifying points in the diagram. Parameter 1 is an array containing the points on the x-axis. Parameter 2 is an array containing the points on the y-axis."
      ],
      "metadata": {
        "id": "union-collins"
      },
      "id": "union-collins"
    },
    {
      "cell_type": "code",
      "source": [
        "import matplotlib.pyplot as plt\n",
        "x = [1, 2]\n",
        "y = [1, 5]\n",
        "plt.plot(x, y)\n",
        "plt.show()"
      ],
      "outputs": [
        {
          "output_type": "display_data",
          "data": {
            "text/plain": [
              "<Figure size 640x480 with 1 Axes>"
            ],
            "image/png": "[encoded data removed]"
          },
          "metadata": {}
        }
      ],
      "execution_count": null,
      "metadata": {
        "colab": {
          "base_uri": "https://localhost:8080/",
          "height": 430
        },
        "id": "interracial-prince",
        "outputId": "2ce00c77-8a28-40ca-90fc-5a5f90bbf8e3"
      },
      "id": "interracial-prince"
    },
    {
      "cell_type": "markdown",
      "source": [
        "*Other example where we modify the line style and the color:*"
      ],
      "metadata": {
        "id": "hawaiian-danish"
      },
      "id": "hawaiian-danish"
    },
    {
      "cell_type": "code",
      "source": [
        "import matplotlib.pyplot as plt\n",
        "import numpy as np\n",
        "x = np.random.randint(low=1, high=20, size=30)\n",
        "plt.plot(x, color = 'blue', linewidth=3, linestyle='dashed')\n",
        "plt.show()"
      ],
      "outputs": [
        {
          "output_type": "display_data",
          "data": {
            "text/plain": [
              "<Figure size 640x480 with 1 Axes>"
            ],
            "image/png": "[encoded data removed]"
          },
          "metadata": {}
        }
      ],
      "execution_count": null,
      "metadata": {
        "colab": {
          "base_uri": "https://localhost:8080/",
          "height": 430
        },
        "id": "central-maine",
        "outputId": "eddc8474-0acf-425e-834d-09476b5a45ee"
      },
      "id": "central-maine"
    },
    {
      "cell_type": "markdown",
      "source": [
        "## Task 4 -- Get familiarized with Pytorch tensors (creation and manipulation)"
      ],
      "metadata": {
        "id": "norman-speech"
      },
      "id": "norman-speech"
    },
    {
      "cell_type": "code",
      "source": [
        "import torch"
      ],
      "outputs": [],
      "execution_count": null,
      "metadata": {
        "id": "colored-civilization"
      },
      "id": "colored-civilization"
    },
    {
      "cell_type": "markdown",
      "source": [
        " ***Creation Examples:***"
      ],
      "metadata": {
        "id": "mineral-assembly"
      },
      "id": "mineral-assembly"
    },
    {
      "cell_type": "code",
      "source": [
        "x = torch.empty(3, 4)\n",
        "print(type(x))\n",
        "print(x)\n"
      ],
      "outputs": [
        {
          "output_type": "stream",
          "name": "stdout",
          "text": [
            "<class 'torch.Tensor'>\n",
            "tensor([[7.7015e+31, 6.1268e+20, 4.6831e+30, 6.5861e-44],\n",
            "        [6.3453e+28, 6.9790e+22, 2.8500e-41, 6.4694e-39],\n",
            "        [3.1278e-24, 2.5353e+30, 3.3631e-44, 8.7693e-42]])\n"
          ]
        }
      ],
      "execution_count": null,
      "metadata": {
        "colab": {
          "base_uri": "https://localhost:8080/"
        },
        "id": "adolescent-adelaide",
        "outputId": "9a9ec708-ab55-4ed3-dba4-0a5a151b4e17"
      },
      "id": "adolescent-adelaide"
    },
    {
      "cell_type": "code",
      "source": [
        "zeros = torch.zeros(2, 3)\n",
        "print(zeros)"
      ],
      "outputs": [
        {
          "output_type": "stream",
          "name": "stdout",
          "text": [
            "tensor([[0., 0., 0.],\n",
            "        [0., 0., 0.]])\n"
          ]
        }
      ],
      "execution_count": null,
      "metadata": {
        "colab": {
          "base_uri": "https://localhost:8080/"
        },
        "id": "surface-harvest",
        "outputId": "523e1bfc-78a1-44b5-946b-e4005f9f0604"
      },
      "id": "surface-harvest"
    },
    {
      "cell_type": "code",
      "source": [
        "ones = torch.ones(2, 3)\n",
        "print(ones)"
      ],
      "outputs": [
        {
          "output_type": "stream",
          "name": "stdout",
          "text": [
            "tensor([[1., 1., 1.],\n",
            "        [1., 1., 1.]])\n"
          ]
        }
      ],
      "execution_count": null,
      "metadata": {
        "colab": {
          "base_uri": "https://localhost:8080/"
        },
        "id": "forty-aviation",
        "outputId": "e67cae92-d30b-4af2-951b-f6576f78e5b7"
      },
      "id": "forty-aviation"
    },
    {
      "cell_type": "code",
      "source": [
        "torch.manual_seed(1729)\n",
        "random = torch.rand(2, 3)\n",
        "print(random)"
      ],
      "outputs": [
        {
          "output_type": "stream",
          "name": "stdout",
          "text": [
            "tensor([[0.3126, 0.3791, 0.3087],\n",
            "        [0.0736, 0.4216, 0.0691]])\n"
          ]
        }
      ],
      "execution_count": null,
      "metadata": {
        "colab": {
          "base_uri": "https://localhost:8080/"
        },
        "id": "consecutive-programming",
        "outputId": "b558e89e-4039-441f-c986-f4f5d8d81126"
      },
      "id": "consecutive-programming"
    },
    {
      "cell_type": "markdown",
      "source": [
        "Observe the last example with the seed specified. Run the following example and observe the “random” values generated:"
      ],
      "metadata": {
        "id": "vocational-tuition"
      },
      "id": "vocational-tuition"
    },
    {
      "cell_type": "code",
      "source": [
        "torch.manual_seed(1)\n",
        "random1 = torch.rand(2, 3)\n",
        "print(random1)\n",
        "\n",
        "random2 = torch.rand(2, 3)\n",
        "print(random2)\n",
        "\n",
        "torch.manual_seed(1)\n",
        "random3 = torch.rand(2, 3)\n",
        "print(random3)\n",
        "\n",
        "random4 = torch.rand(2, 3)\n",
        "print(random4)"
      ],
      "outputs": [
        {
          "output_type": "stream",
          "name": "stdout",
          "text": [
            "tensor([[0.7576, 0.2793, 0.4031],\n",
            "        [0.7347, 0.0293, 0.7999]])\n",
            "tensor([[0.3971, 0.7544, 0.5695],\n",
            "        [0.4388, 0.6387, 0.5247]])\n",
            "tensor([[0.7576, 0.2793, 0.4031],\n",
            "        [0.7347, 0.0293, 0.7999]])\n",
            "tensor([[0.3971, 0.7544, 0.5695],\n",
            "        [0.4388, 0.6387, 0.5247]])\n"
          ]
        }
      ],
      "execution_count": null,
      "metadata": {
        "colab": {
          "base_uri": "https://localhost:8080/"
        },
        "id": "billion-sunday",
        "outputId": "29a8e034-03c0-4a4f-87de-cf2876c60f52"
      },
      "id": "billion-sunday"
    },
    {
      "cell_type": "markdown",
      "source": [
        "***Tensor Shapes***\n",
        "\n",
        "On performing operations on two or more tensors, they will need to be of the same shape - that is, having the same number of dimensions and the same number of cells in each dimension. For that, we have the `torch.*_like()` methods:\n"
      ],
      "metadata": {
        "id": "whole-immigration"
      },
      "id": "whole-immigration"
    },
    {
      "cell_type": "code",
      "source": [
        "x = torch.empty(2, 2, 3)\n",
        "print(x.shape)\n",
        "print(x)\n",
        "\n",
        "empty_like_x = torch.empty_like(x)\n",
        "print(empty_like_x.shape)\n",
        "print(empty_like_x)\n",
        "\n",
        "zeros_like_x = torch.zeros_like(x)\n",
        "print(zeros_like_x.shape)\n",
        "print(zeros_like_x)\n",
        "\n",
        "ones_like_x = torch.ones_like(x)\n",
        "print(ones_like_x.shape)\n",
        "print(ones_like_x)\n",
        "\n",
        "rand_like_x = torch.rand_like(x)\n",
        "print(rand_like_x.shape)\n",
        "print(rand_like_x)\n"
      ],
      "outputs": [
        {
          "output_type": "stream",
          "name": "stdout",
          "text": [
            "torch.Size([2, 2, 3])\n",
            "tensor([[[5.5513e-08, 4.3845e-41, 5.5513e-08],\n",
            "         [4.3845e-41, 4.4842e-44, 0.0000e+00]],\n",
            "\n",
            "        [[1.1210e-43, 0.0000e+00, 4.8665e+07],\n",
            "         [3.1987e-41, 0.0000e+00, 0.0000e+00]]])\n",
            "torch.Size([2, 2, 3])\n",
            "tensor([[[5.5513e-08, 4.3845e-41, 5.5513e-08],\n",
            "         [4.3845e-41, 4.4842e-44, 0.0000e+00]],\n",
            "\n",
            "        [[1.1210e-43, 0.0000e+00, 4.8665e+07],\n",
            "         [3.1987e-41, 0.0000e+00, 0.0000e+00]]])\n",
            "torch.Size([2, 2, 3])\n",
            "tensor([[[0., 0., 0.],\n",
            "         [0., 0., 0.]],\n",
            "\n",
            "        [[0., 0., 0.],\n",
            "         [0., 0., 0.]]])\n",
            "torch.Size([2, 2, 3])\n",
            "tensor([[[1., 1., 1.],\n",
            "         [1., 1., 1.]],\n",
            "\n",
            "        [[1., 1., 1.],\n",
            "         [1., 1., 1.]]])\n",
            "torch.Size([2, 2, 3])\n",
            "tensor([[[0.6826, 0.3051, 0.4635],\n",
            "         [0.4550, 0.5725, 0.4980]],\n",
            "\n",
            "        [[0.9371, 0.6556, 0.3138],\n",
            "         [0.1980, 0.4162, 0.2843]]])\n"
          ]
        }
      ],
      "execution_count": null,
      "metadata": {
        "colab": {
          "base_uri": "https://localhost:8080/"
        },
        "id": "nonprofit-fleece",
        "outputId": "80c2e047-8e36-4c9a-ad97-c443f6b8cf33"
      },
      "id": "nonprofit-fleece"
    },
    {
      "cell_type": "markdown",
      "source": [
        "***Moving to GPU***\n",
        "\n",
        "   First, we should check whether a GPU is available, with the is_available() method.\n",
        "\n",
        "   **If you do not have a CUDA-compatible GPU and CUDA drivers installed, the executable cells in this section will not execute any GPU-related code.**\n"
      ],
      "metadata": {
        "id": "detected-committee"
      },
      "id": "detected-committee"
    },
    {
      "cell_type": "code",
      "source": [
        "if torch.cuda.is_available():\n",
        "    print('We have a GPU!')\n",
        "else:\n",
        "    print('Sorry, CPU only.')"
      ],
      "outputs": [
        {
          "output_type": "stream",
          "name": "stdout",
          "text": [
            "Sorry, CPU only.\n"
          ]
        }
      ],
      "execution_count": null,
      "metadata": {
        "colab": {
          "base_uri": "https://localhost:8080/"
        },
        "id": "armed-opposition",
        "outputId": "e0a5a2a6-7813-45b5-ace3-f4fc547e2706"
      },
      "id": "armed-opposition"
    },
    {
      "cell_type": "markdown",
      "source": [
        "A common way to handle this situation is this:"
      ],
      "metadata": {
        "id": "expressed-minority"
      },
      "id": "expressed-minority"
    },
    {
      "cell_type": "code",
      "source": [
        "if torch.cuda.is_available():\n",
        "    my_device = torch.device('cuda')\n",
        "else:\n",
        "    my_device = torch.device('cpu')\n",
        "print('Device: {}'.format(my_device))\n",
        "\n",
        "x = torch.rand(2, 2, device=my_device)\n",
        "print(x)"
      ],
      "outputs": [
        {
          "output_type": "stream",
          "name": "stdout",
          "text": [
            "Device: cpu\n",
            "tensor([[0.3398, 0.5239],\n",
            "        [0.7981, 0.7718]])\n"
          ]
        }
      ],
      "execution_count": null,
      "metadata": {
        "colab": {
          "base_uri": "https://localhost:8080/"
        },
        "id": "healthy-assembly",
        "outputId": "8c3b456a-47f5-470f-aad3-8d285ab734f4"
      },
      "id": "healthy-assembly"
    },
    {
      "cell_type": "markdown",
      "source": [
        "## Task 5 -- Get familiarized with  PIL/PILLOW (python image library)"
      ],
      "metadata": {
        "id": "blessed-processing"
      },
      "id": "blessed-processing"
    },
    {
      "cell_type": "markdown",
      "source": [
        "A. Display an image with pillow (the image must be in the same folder for these examples to run, and we considered the name of the image file `opera.jpg`):"
      ],
      "metadata": {
        "id": "unauthorized-institution"
      },
      "id": "unauthorized-institution"
    },
    {
      "cell_type": "code",
      "source": [
        "# load and show an image with Pillow\n",
        "from PIL import Image\n",
        "# load the image\n",
        "image = Image.open('opera.jpg')\n",
        "# summarize some details about the image\n",
        "print(image.format)\n",
        "print(image.mode)\n",
        "print(image.size)\n",
        "# show the image\n",
        "image.show()\n"
      ],
      "outputs": [],
      "execution_count": null,
      "metadata": {
        "id": "hearing-ecuador"
      },
      "id": "hearing-ecuador"
    },
    {
      "cell_type": "markdown",
      "source": [
        "B. Convert the image to a numpy array:"
      ],
      "metadata": {
        "id": "broken-package"
      },
      "id": "broken-package"
    },
    {
      "cell_type": "code",
      "source": [
        "# load and display an image with Matplotlib\n",
        "from matplotlib import image\n",
        "from matplotlib import pyplot\n",
        "# load image as pixel array\n",
        "data = image.imread('opera.jpg')\n",
        "# summarize shape of the pixel array\n",
        "print(data.dtype)\n",
        "print(data.shape)\n",
        "# display the array of pixels as an image\n",
        "pyplot.imshow(data)\n",
        "pyplot.show()"
      ],
      "outputs": [],
      "execution_count": null,
      "metadata": {
        "id": "abstract-proportion"
      },
      "id": "abstract-proportion"
    },
    {
      "cell_type": "markdown",
      "source": [
        "C. Resize an image to a specific dimension:"
      ],
      "metadata": {
        "id": "respective-relief"
      },
      "id": "respective-relief"
    },
    {
      "cell_type": "code",
      "source": [
        "# create a thumbnail of an image\n",
        "from PIL import Image\n",
        "# load the image\n",
        "image = Image.open('opera.jpg')\n",
        "# report the size of the image\n",
        "print(image.size)\n",
        "# create a thumbnail and preserve aspect ratio\n",
        "image.thumbnail((100,100))\n",
        "# report the size of the thumbnail\n",
        "print(image.size)"
      ],
      "outputs": [
        {
          "output_type": "stream",
          "name": "stdout",
          "text": "(680, 442)\n(100, 65)\n"
        }
      ],
      "execution_count": null,
      "metadata": {
        "scrolled": true,
        "id": "floral-cooler",
        "outputId": "8ab497ae-8686-4084-ecc1-c0d8918d3527"
      },
      "id": "floral-cooler"
    },
    {
      "cell_type": "markdown",
      "source": [
        "D. Other operations can be found at the address [How to Load and Manipulate Images for Deep Learning in Python With PIL/Pillow](https://machinelearningmastery.com/how-to-load-and-manipulate-images-for-deep-learning-in-python-with-pil-pillow/)\n"
      ],
      "metadata": {
        "id": "insured-organic"
      },
      "id": "insured-organic"
    },
    {
      "cell_type": "markdown",
      "source": [
        "## Task 6 -- An application: Simulate an unfair probability spinner"
      ],
      "metadata": {
        "id": "armed-biotechnology"
      },
      "id": "armed-biotechnology"
    },
    {
      "cell_type": "markdown",
      "source": [
        "Conside an unfair probability spinner with $n$ slots. Each slot has a probabilty $P_n \\in [0,1]$ and $\\sum_{i=0}^{n-1}P_i = 1$.\n",
        "\n",
        "Write a function that random generate an index $i$ with the probability $P_i$ from the set $\\{0, 1, ..., n\\}$.  "
      ],
      "metadata": {
        "id": "quick-christian"
      },
      "id": "quick-christian"
    },
    {
      "cell_type": "code",
      "source": [
        "import numpy as np\n",
        "\n",
        "def spinner(probabilityDistribution):\n",
        "    indexes = len(probabilityDistribution)\n",
        "    currentIndex = 1\n",
        "    cumulativeProb = np.zeros(indexes+1)\n",
        "\n",
        "    for elem in probabilityDistribution:\n",
        "      cumulativeProb[currentIndex] = cumulativeProb[currentIndex - 1] + elem\n",
        "      currentIndex = currentIndex + 1\n",
        "    randomNo = np.random.rand()\n",
        "    print(randomNo)\n",
        "    print(cumulativeProb)\n",
        "\n",
        "    ind = -1\n",
        "\n",
        "    for i in cumulativeProb:\n",
        "      if randomNo > i:\n",
        "        ind = ind + 1\n",
        "      else:\n",
        "        print(ind)\n",
        "        break\n",
        "\n",
        "slotsProb = np.array([0.1, 0.2, 0.6, 0.1])\n",
        "index = spinner(slotsProb)"
      ],
      "outputs": [
        {
          "output_type": "stream",
          "name": "stdout",
          "text": [
            "0.07695381883715158\n",
            "[0.  0.1 0.3 0.9 1. ]\n",
            "0\n"
          ]
        }
      ],
      "execution_count": null,
      "metadata": {
        "colab": {
          "base_uri": "https://localhost:8080/"
        },
        "id": "together-ownership",
        "outputId": "59d3180a-6efc-4a3b-f972-53742a704ca7"
      },
      "id": "together-ownership"
    },
    {
      "cell_type": "markdown",
      "source": [
        "The same problem but instead of a distribution of probability the input is a list of natural numbers that holds how many degrees has the center angle $\\theta_i$ corespondent to index $i$.\n",
        "\n",
        "### Example:\n",
        "\n",
        "Consider we have a wheel with 4 slots as in Figure\n",
        "\n",
        "![chart.png](attachment:chart.png)\n",
        "\n",
        "When we spin the wheel we get for example blue index with $12.86\\%$ chances."
      ],
      "metadata": {
        "id": "3be14413"
      },
      "id": "3be14413"
    },
    {
      "cell_type": "markdown",
      "source": [
        "## Task 7 -- Determine some outcomes using Monte Carlo Simulations"
      ],
      "metadata": {
        "id": "c0da82ad"
      },
      "id": "c0da82ad"
    },
    {
      "cell_type": "markdown",
      "source": [
        "Consider a large pipe with a radius $R = 30 cm$ that has the opening pointing straight up, as in the figure. Around this pipe is a rectangular wall with an edge $l = 1m$. Balls of radius $r = 1 cm$ fall down uniformly from above inside the square yard. Compute, using a Monte Carlo simulation, the probability that a ball falls inside the pipe. Compare the results with the mathematically deduced probability.\n",
        "\n",
        "![MCSIM.jpg](attachment:MCSIM.jpg)"
      ],
      "metadata": {
        "id": "5d27f3f8"
      },
      "id": "5d27f3f8"
    },
    {
      "cell_type": "code",
      "source": [
        "import numpy as np\n",
        "mathProbability = (np.pi * 30 * 30) / (100 * 100);\n",
        "\n",
        "print(mathProbability);\n",
        "\n",
        "\n",
        "n = 10000;\n",
        "cnt=0\n",
        "\n",
        "while n!=0:\n",
        "    x=np.random.rand() - 0.5\n",
        "    y=np.random.rand() - 0.5\n",
        "    n=n-1\n",
        "\n",
        "    if (x*x + y*y) <= 0.3*0.3:\n",
        "      cnt = cnt+1\n",
        "\n",
        "print(cnt/10000)"
      ],
      "metadata": {
        "colab": {
          "base_uri": "https://localhost:8080/"
        },
        "id": "TH6wxz_E3exO",
        "outputId": "69f68890-90a8-4f88-fa86-f49f7634a214"
      },
      "id": "TH6wxz_E3exO",
      "execution_count": 9,
      "outputs": [
        {
          "output_type": "stream",
          "name": "stdout",
          "text": [
            "0.2827433388230814\n",
            "0.2792\n"
          ]
        }
      ]
    }
  ],
  "metadata": {
    "kernelspec": {
      "name": "python3",
      "display_name": "Python 3"
    },
    "language_info": {
      "codemirror_mode": {
        "name": "python",
        "version": 3
      },
      "file_extension": ".py",
      "mimetype": "text/x-python",
      "name": "python",
      "nbconvert_exporter": "python",
      "pygments_lexer": "ipython3",
      "version": "3.8"
    },
    "kernel_info": {
      "name": "python"
    },
    "nteract": {
      "version": "nteract-front-end@1.0.0"
    },
    "colab": {
      "provenance": []
    },
    "accelerator": "TPU"
  },
  "nbformat": 4,
  "nbformat_minor": 5
}